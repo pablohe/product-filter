{
 "cells": [
  {
   "cell_type": "code",
   "execution_count": 16,
   "id": "familiar-savage",
   "metadata": {},
   "outputs": [],
   "source": [
    "import geopandas as gpd\n",
    "import psycopg2  # (if it is postgres/postgis)\n",
    "import geopandas as gpd\n",
    "import matplotlib.pyplot as plt\n",
    "import contextily as ctx\n",
    "\n",
    "con = psycopg2.connect(database=\"postgis-database\", user=\"postgis\", password=\"postgis\", host=\"localhost\", port=35432)"
   ]
  },
  {
   "cell_type": "code",
   "execution_count": null,
   "id": "french-assumption",
   "metadata": {},
   "outputs": [],
   "source": []
  },
  {
   "cell_type": "code",
   "execution_count": null,
   "id": "blessed-mouse",
   "metadata": {},
   "outputs": [],
   "source": []
  },
  {
   "cell_type": "code",
   "execution_count": null,
   "id": "extensive-digit",
   "metadata": {},
   "outputs": [],
   "source": []
  },
  {
   "cell_type": "code",
   "execution_count": null,
   "id": "diagnostic-blair",
   "metadata": {},
   "outputs": [],
   "source": []
  },
  {
   "cell_type": "code",
   "execution_count": 24,
   "id": "collect-advantage",
   "metadata": {},
   "outputs": [],
   "source": [
    "sql=\"\"\"\n",
    "    SELECT         \n",
    "        tau, lon, lat, geom\n",
    "    FROM\n",
    "        AOD_AC3\n",
    "    limit \n",
    "        1000\n",
    "\"\"\"\n",
    "\n",
    "data = gpd.read_postgis(sql=sql, con=con)\n",
    "con.commit()\n"
   ]
  },
  {
   "cell_type": "code",
   "execution_count": 29,
   "id": "prompt-liabilities",
   "metadata": {},
   "outputs": [
    {
     "data": {
      "text/html": [
       "<div>\n",
       "<style scoped>\n",
       "    .dataframe tbody tr th:only-of-type {\n",
       "        vertical-align: middle;\n",
       "    }\n",
       "\n",
       "    .dataframe tbody tr th {\n",
       "        vertical-align: top;\n",
       "    }\n",
       "\n",
       "    .dataframe thead th {\n",
       "        text-align: right;\n",
       "    }\n",
       "</style>\n",
       "<table border=\"1\" class=\"dataframe\">\n",
       "  <thead>\n",
       "    <tr style=\"text-align: right;\">\n",
       "      <th></th>\n",
       "      <th>tau</th>\n",
       "      <th>lon</th>\n",
       "      <th>lat</th>\n",
       "      <th>geom</th>\n",
       "    </tr>\n",
       "  </thead>\n",
       "  <tbody>\n",
       "    <tr>\n",
       "      <th>0</th>\n",
       "      <td>0.389232</td>\n",
       "      <td>15.44640</td>\n",
       "      <td>68.6953</td>\n",
       "      <td>POLYGON ((626353.698 -2255442.101, 626450.585 ...</td>\n",
       "    </tr>\n",
       "    <tr>\n",
       "      <th>1</th>\n",
       "      <td>0.030292</td>\n",
       "      <td>15.29730</td>\n",
       "      <td>68.7267</td>\n",
       "      <td>POLYGON ((619549.457 -2253654.947, 619646.230 ...</td>\n",
       "    </tr>\n",
       "    <tr>\n",
       "      <th>2</th>\n",
       "      <td>0.637190</td>\n",
       "      <td>14.93150</td>\n",
       "      <td>68.8021</td>\n",
       "      <td>POLYGON ((602961.204 -2249364.276, 603057.699 ...</td>\n",
       "    </tr>\n",
       "    <tr>\n",
       "      <th>3</th>\n",
       "      <td>0.453860</td>\n",
       "      <td>14.73770</td>\n",
       "      <td>68.8419</td>\n",
       "      <td>POLYGON ((594209.556 -2247059.293, 594305.905 ...</td>\n",
       "    </tr>\n",
       "    <tr>\n",
       "      <th>4</th>\n",
       "      <td>0.037013</td>\n",
       "      <td>8.34706</td>\n",
       "      <td>69.9573</td>\n",
       "      <td>POLYGON ((322239.800 -2175506.376, 322274.187 ...</td>\n",
       "    </tr>\n",
       "  </tbody>\n",
       "</table>\n",
       "</div>"
      ],
      "text/plain": [
       "        tau       lon      lat  \\\n",
       "0  0.389232  15.44640  68.6953   \n",
       "1  0.030292  15.29730  68.7267   \n",
       "2  0.637190  14.93150  68.8021   \n",
       "3  0.453860  14.73770  68.8419   \n",
       "4  0.037013   8.34706  69.9573   \n",
       "\n",
       "                                                geom  \n",
       "0  POLYGON ((626353.698 -2255442.101, 626450.585 ...  \n",
       "1  POLYGON ((619549.457 -2253654.947, 619646.230 ...  \n",
       "2  POLYGON ((602961.204 -2249364.276, 603057.699 ...  \n",
       "3  POLYGON ((594209.556 -2247059.293, 594305.905 ...  \n",
       "4  POLYGON ((322239.800 -2175506.376, 322274.187 ...  "
      ]
     },
     "execution_count": 29,
     "metadata": {},
     "output_type": "execute_result"
    }
   ],
   "source": [
    "data.head()"
   ]
  },
  {
   "cell_type": "code",
   "execution_count": 59,
   "id": "aggressive-probability",
   "metadata": {},
   "outputs": [
    {
     "ename": "AttributeError",
     "evalue": "module 'numpy' has no attribute 'proj4_init'",
     "output_type": "error",
     "traceback": [
      "\u001b[0;31m---------------------------------------------------------------------------\u001b[0m",
      "\u001b[0;31mAttributeError\u001b[0m                            Traceback (most recent call last)",
      "\u001b[0;32m<ipython-input-59-c48b169f7adf>\u001b[0m in \u001b[0;36m<module>\u001b[0;34m\u001b[0m\n\u001b[1;32m     13\u001b[0m \u001b[0;34m\u001b[0m\u001b[0m\n\u001b[1;32m     14\u001b[0m \u001b[0;31m# This can be converted into a `proj4` string/dict compatible with GeoPandas\u001b[0m\u001b[0;34m\u001b[0m\u001b[0;34m\u001b[0m\u001b[0;34m\u001b[0m\u001b[0m\n\u001b[0;32m---> 15\u001b[0;31m \u001b[0mcrs_proj4\u001b[0m \u001b[0;34m=\u001b[0m \u001b[0mcrs\u001b[0m\u001b[0;34m.\u001b[0m\u001b[0mproj4_init\u001b[0m\u001b[0;34m\u001b[0m\u001b[0;34m\u001b[0m\u001b[0m\n\u001b[0m\u001b[1;32m     16\u001b[0m \u001b[0mdf_ae\u001b[0m \u001b[0;34m=\u001b[0m \u001b[0mdf\u001b[0m\u001b[0;34m.\u001b[0m\u001b[0mto_crs\u001b[0m\u001b[0;34m(\u001b[0m\u001b[0mcrs_proj4\u001b[0m\u001b[0;34m)\u001b[0m\u001b[0;34m\u001b[0m\u001b[0;34m\u001b[0m\u001b[0m\n\u001b[1;32m     17\u001b[0m \u001b[0;34m\u001b[0m\u001b[0m\n",
      "\u001b[0;32m~/miniconda3/lib/python3.8/site-packages/numpy/__init__.py\u001b[0m in \u001b[0;36m__getattr__\u001b[0;34m(attr)\u001b[0m\n\u001b[1;32m    301\u001b[0m                 \u001b[0;32mreturn\u001b[0m \u001b[0mTester\u001b[0m\u001b[0;34m\u001b[0m\u001b[0;34m\u001b[0m\u001b[0m\n\u001b[1;32m    302\u001b[0m \u001b[0;34m\u001b[0m\u001b[0m\n\u001b[0;32m--> 303\u001b[0;31m             raise AttributeError(\"module {!r} has no attribute \"\n\u001b[0m\u001b[1;32m    304\u001b[0m                                  \"{!r}\".format(__name__, attr))\n\u001b[1;32m    305\u001b[0m \u001b[0;34m\u001b[0m\u001b[0m\n",
      "\u001b[0;31mAttributeError\u001b[0m: module 'numpy' has no attribute 'proj4_init'"
     ]
    }
   ],
   "source": [
    "import matplotlib.pyplot as plt\n",
    "import geopandas\n",
    "from cartopy import crs as ccrs\n",
    "\n",
    "path = geopandas.datasets.get_path('naturalearth_lowres')\n",
    "df = geopandas.read_file(path)\n",
    "# Add a column we'll use later\n",
    "df['gdp_pp'] = df['gdp_md_est'] / df['pop_est']\n",
    "\n",
    "\n",
    "# Define the CartoPyRS object.\n",
    "crs = ccrs.\n",
    "\n",
    "# This can be converted into a `proj4` string/dict compatible with GeoPandas\n",
    "crs_proj4 = crs.proj4_init\n",
    "df_ae = df.to_crs(crs_proj4)\n",
    "\n",
    "# Here's what the plot looks like in GeoPandas\n",
    "df_ae.plot()\n",
    "\n"
   ]
  },
  {
   "cell_type": "code",
   "execution_count": 41,
   "id": "christian-young",
   "metadata": {},
   "outputs": [
    {
     "data": {
      "image/png": "[encoded data removed]",
      "text/plain": [
       "<Figure size 1080x1080 with 1 Axes>"
      ]
     },
     "metadata": {
      "needs_background": "light"
     },
     "output_type": "display_data"
    }
   ],
   "source": [
    "\n",
    "ax = data.plot(figsize=(15, 15), alpha=0.9, column='tau')\n",
    "# ctx.add_basemap(ax)\n"
   ]
  },
  {
   "cell_type": "code",
   "execution_count": null,
   "id": "turkish-violation",
   "metadata": {},
   "outputs": [],
   "source": [
    "# from os import walk\n",
    "# count = 0\n",
    "# path = \"./misc/projectspace/XBAERout/AOD_AC3r06/2008/\"\n",
    "# for (dirpath, dirnames, filenames) in walk(path):\n",
    "#     for my_file in filenames: \n",
    "#         for line in open(path+my_file): count += 1\n",
    "# print (count)\n",
    "        "
   ]
  },
  {
   "cell_type": "code",
   "execution_count": null,
   "id": "otherwise-september",
   "metadata": {},
   "outputs": [],
   "source": []
  }
 ],
 "metadata": {
  "kernelspec": {
   "display_name": "Python 3",
   "language": "python",
   "name": "python3"
  },
  "language_info": {
   "codemirror_mode": {
    "name": "ipython",
    "version": 3
   },
   "file_extension": ".py",
   "mimetype": "text/x-python",
   "name": "python",
   "nbconvert_exporter": "python",
   "pygments_lexer": "ipython3",
   "version": "3.8.5"
  }
 },
 "nbformat": 4,
 "nbformat_minor": 5
}
